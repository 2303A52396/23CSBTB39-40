{
  "nbformat": 4,
  "nbformat_minor": 0,
  "metadata": {
    "colab": {
      "provenance": []
    },
    "kernelspec": {
      "name": "python3",
      "display_name": "Python 3"
    },
    "language_info": {
      "name": "python"
    }
  },
  "cells": [
    {
      "cell_type": "code",
      "execution_count": null,
      "metadata": {
        "colab": {
          "base_uri": "https://localhost:8080/"
        },
        "id": "R5Gq3QHaTE1L",
        "outputId": "356fc822-44ed-486e-8e5e-b3494ae5b84c"
      },
      "outputs": [
        {
          "output_type": "stream",
          "name": "stdout",
          "text": [
            "Number of rows: 545\n",
            "Number of cols: 13\n"
          ]
        }
      ],
      "source": [
        "import numpy as np\n",
        "import pandas as pd\n",
        "import matplotlib.pyplot as plt\n",
        "import seaborn as sns\n",
        "\n",
        "housing = pd.DataFrame(pd.read_csv(\"/content/housing.csv\"))\n",
        "\n",
        "housing.head()\n",
        "housing.tail()\n",
        "rows = len(housing.axes[0])\n",
        "cols = len(housing.axes[1])\n",
        "print(\"Number of rows:\",rows)\n",
        "print(\"Number of cols:\",cols)\n"
      ]
    }
  ]
}