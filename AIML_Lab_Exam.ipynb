{
  "nbformat": 4,
  "nbformat_minor": 0,
  "metadata": {
    "colab": {
      "provenance": [],
      "authorship_tag": "ABX9TyPFnKcNAZuC0/JzEtiXKr47",
      "include_colab_link": true
    },
    "kernelspec": {
      "name": "python3",
      "display_name": "Python 3"
    },
    "language_info": {
      "name": "python"
    }
  },
  "cells": [
    {
      "cell_type": "markdown",
      "metadata": {
        "id": "view-in-github",
        "colab_type": "text"
      },
      "source": [
        "<a href=\"https://colab.research.google.com/github/2303A52396/23CSBTB39-40/blob/main/AIML_Lab_Exam.ipynb\" target=\"_parent\"><img src=\"https://colab.research.google.com/assets/colab-badge.svg\" alt=\"Open In Colab\"/></a>"
      ]
    },
    {
      "cell_type": "markdown",
      "source": [
        "M.Manogna 2303A52396 Batch-39 AIML Lab Exam : Random forest"
      ],
      "metadata": {
        "id": "Szv13AKY3Dak"
      }
    },
    {
      "cell_type": "code",
      "execution_count": 2,
      "metadata": {
        "id": "E4O6wc1M0nqr"
      },
      "outputs": [],
      "source": [
        "# importing required libraries\n",
        "# importing Scikit-learn library and datasets package\n",
        "from sklearn import datasets\n",
        "\n",
        "# Loading the iris plants dataset (classification)\n",
        "iris = datasets.load_iris()"
      ]
    },
    {
      "cell_type": "code",
      "source": [
        "print(iris.target_names)"
      ],
      "metadata": {
        "colab": {
          "base_uri": "https://localhost:8080/"
        },
        "id": "ydvORIJW1Le0",
        "outputId": "63a1da3a-4bce-460e-a34c-27d57dbab1a1"
      },
      "execution_count": 3,
      "outputs": [
        {
          "output_type": "stream",
          "name": "stdout",
          "text": [
            "['setosa' 'versicolor' 'virginica']\n"
          ]
        }
      ]
    },
    {
      "cell_type": "code",
      "source": [
        "print(iris.feature_names)"
      ],
      "metadata": {
        "colab": {
          "base_uri": "https://localhost:8080/"
        },
        "id": "YUYF7mZV1dOM",
        "outputId": "f2679528-1abc-4faa-9e48-21a737d9c6f3"
      },
      "execution_count": 4,
      "outputs": [
        {
          "output_type": "stream",
          "name": "stdout",
          "text": [
            "['sepal length (cm)', 'sepal width (cm)', 'petal length (cm)', 'petal width (cm)']\n"
          ]
        }
      ]
    },
    {
      "cell_type": "code",
      "source": [
        "# dividing the datasets into two parts i.e. training datasets and test datasets\n",
        "X, y = datasets.load_iris( return_X_y = True)\n",
        "\n",
        "# Splitting arrays or matrices into random train and test subsets\n",
        "from sklearn.model_selection import train_test_split\n",
        "# i.e. 70 % training dataset and 30 % test datasets\n",
        "X_train, X_test, y_train, y_test = train_test_split(X, y, test_size = 0.30)"
      ],
      "metadata": {
        "id": "Q7RvmNtX1lof"
      },
      "execution_count": 5,
      "outputs": []
    },
    {
      "cell_type": "code",
      "source": [
        "# importing random forest classifier from assemble module\n",
        "from sklearn.ensemble import RandomForestClassifier\n",
        "import pandas as pd\n",
        "# creating dataframe of IRIS dataset\n",
        "data = pd.DataFrame({'sepallength': iris.data[:, 0], 'sepalwidth': iris.data[:, 1],\n",
        "\t\t\t\t\t'petallength': iris.data[:, 2], 'petalwidth': iris.data[:, 3],\n",
        "\t\t\t\t\t'species': iris.target})"
      ],
      "metadata": {
        "id": "M1S_woeI1wB3"
      },
      "execution_count": 6,
      "outputs": []
    },
    {
      "cell_type": "code",
      "source": [
        "# printing the top 5 datasets in iris dataset\n",
        "print(data.head())"
      ],
      "metadata": {
        "colab": {
          "base_uri": "https://localhost:8080/"
        },
        "id": "cn3K8bRx19kP",
        "outputId": "8c3faa3b-247e-4159-e29f-985786b81602"
      },
      "execution_count": 7,
      "outputs": [
        {
          "output_type": "stream",
          "name": "stdout",
          "text": [
            "   sepallength  sepalwidth  petallength  petalwidth  species\n",
            "0          5.1         3.5          1.4         0.2        0\n",
            "1          4.9         3.0          1.4         0.2        0\n",
            "2          4.7         3.2          1.3         0.2        0\n",
            "3          4.6         3.1          1.5         0.2        0\n",
            "4          5.0         3.6          1.4         0.2        0\n"
          ]
        }
      ]
    },
    {
      "cell_type": "code",
      "source": [
        "# creating a RF classifier\n",
        "clf = RandomForestClassifier(n_estimators = 100)\n",
        "\n",
        "# Training the model on the training dataset\n",
        "# fit function is used to train the model using the training sets as parameters\n",
        "clf.fit(X_train, y_train)\n",
        "\n",
        "# performing predictions on the test dataset\n",
        "y_pred = clf.predict(X_test)\n",
        "\n",
        "# metrics are used to find accuracy or error\n",
        "from sklearn import metrics\n",
        "print()\n",
        "\n",
        "# using metrics module for accuracy calculation\n",
        "print(\"ACCURACY OF THE MODEL:\", metrics.accuracy_score(y_test, y_pred))"
      ],
      "metadata": {
        "colab": {
          "base_uri": "https://localhost:8080/"
        },
        "id": "-8kNLGM12DaR",
        "outputId": "a37cabac-c4b5-4011-db9a-ab70fca74b66"
      },
      "execution_count": 8,
      "outputs": [
        {
          "output_type": "stream",
          "name": "stdout",
          "text": [
            "\n",
            "ACCURACY OF THE MODEL: 0.9777777777777777\n"
          ]
        }
      ]
    },
    {
      "cell_type": "code",
      "source": [
        "# predicting which type of flower it is.\n",
        "clf.predict([[3, 3, 2, 2]])"
      ],
      "metadata": {
        "colab": {
          "base_uri": "https://localhost:8080/"
        },
        "id": "Am2SBp752jPC",
        "outputId": "47394f4b-e8d9-47b3-f765-f7fd66ecc267"
      },
      "execution_count": 9,
      "outputs": [
        {
          "output_type": "execute_result",
          "data": {
            "text/plain": [
              "array([0])"
            ]
          },
          "metadata": {},
          "execution_count": 9
        }
      ]
    }
  ]
}